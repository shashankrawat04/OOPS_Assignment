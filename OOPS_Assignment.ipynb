{
 "cells": [
  {
   "cell_type": "markdown",
   "id": "c3a9e8d0-0350-4d5f-9a04-72ac00f3ccee",
   "metadata": {},
   "source": [
    "Problem 1: Bank Account Create a class representing a bank account with attributes like account number, account holder name, and balance. Implement methods to deposit and withdraw money from the account.\n",
    "\n",
    "Problem 2: Employee Management Create a class representing an employee with attributes like employee ID, name, and salary. Implement methods to calculate the yearly bonus and display employee details.\n",
    "\n",
    "Problem 3: Vehicle Rental Create a class representing a vehicle rental system. Implement methods to rent a vehicle, return a vehicle, and display available vehicles.\n",
    "\n",
    "Problem 4: Library Catalog Create classes representing a library and a book. Implement methods to add books to the library, borrow books, and display available books.\n",
    "\n",
    "Problem 5: Product Inventory Create classes representing a product and an inventory system. Implement methods to add products to the inventory, update product quantity, and display available products.\n",
    "\n",
    "Problem 6: Shape Calculation Create a class representing a shape with attributes like length, width, and height. Implement methods to calculate the area and perimeter of the shape.\n",
    "\n",
    "Problem 7: Student Management Create a class representing a student with attributes like student ID, name, and grades. Implement methods to calculate the average grade and display student details.\n",
    "\n",
    "Problem 8: Email Management Create a class representing an email with attributes like sender, recipient, and subject. Implement methods to send an email and display email details.\n",
    "\n",
    "Problem 9: Social Media Profile Create a class representing a social media profile with attributes like username and posts. Implement methods to add posts, display posts, and search for posts by keyword.\n",
    "\n",
    "Problem 10: ToDo List Create a class representing a ToDo list with attributes like tasks and due dates. Implement methods to add tasks, mark tasks as completed, and display pending tasks."
   ]
  },
  {
   "cell_type": "code",
   "execution_count": 14,
   "id": "83f92451-dbeb-4eed-8b85-be788db00fdd",
   "metadata": {},
   "outputs": [],
   "source": [
    "#1\n",
    "class account:\n",
    "    def __init__(self, account_holder_name, balance):\n",
    "        self.account_holder_name = account_holder_name\n",
    "        self.balance = balance\n",
    "    def deposit(self, amount):\n",
    "        print(self.balance+amount) \n",
    "    def withdraw(self, amount):\n",
    "        print(self.balance-amount) "
   ]
  },
  {
   "cell_type": "code",
   "execution_count": 17,
   "id": "8ed6c56c-ec7d-41f3-b116-b15e9f9ae519",
   "metadata": {},
   "outputs": [
    {
     "name": "stdout",
     "output_type": "stream",
     "text": [
      "0\n"
     ]
    }
   ],
   "source": [
    "shashank = account(\"shashank\",1000)\n",
    "shashank.withdraw(1000)"
   ]
  },
  {
   "cell_type": "code",
   "execution_count": 30,
   "id": "67b8617d-6fd8-4ca0-afe9-4d2cbe79b30b",
   "metadata": {},
   "outputs": [],
   "source": [
    "#2\n",
    "class Management:\n",
    "    def __init__(self, EMP_name, EMP_ID, salary):\n",
    "        self.EMP_name = EMP_name\n",
    "        self.EMP_ID = EMP_ID\n",
    "        self.salary = salary\n",
    "    def bonus(self,bonus_percentage):\n",
    "            print(self.salary*bonus_percentage)"
   ]
  },
  {
   "cell_type": "code",
   "execution_count": 31,
   "id": "28b38f3e-60a3-4dc5-a9e5-14aee2dd04ba",
   "metadata": {},
   "outputs": [
    {
     "name": "stdout",
     "output_type": "stream",
     "text": [
      "5000.0\n"
     ]
    }
   ],
   "source": [
    "shashank = Management(\"Shashank\", 4, 500000)\n",
    "shashank.bonus(0.01)"
   ]
  },
  {
   "cell_type": "code",
   "execution_count": 41,
   "id": "9d1542ef-154f-4a8f-a274-00f6c9f06f7d",
   "metadata": {},
   "outputs": [],
   "source": [
    "#3\n",
    "class Vehicle_rental:\n",
    "    def rent_vehicle(self, name, Driving_license, photo):\n",
    "        charges = 500\n",
    "        print(f\"Vehicle is rented to: {name.upper()} charges applied {charges}\")\n",
    "    def return_vehicle(self, name, vehicle_condition):\n",
    "        print(f\"Vehicle returned successfully\")\n",
    "    def available_vahicle(self):\n",
    "        print(\"\"\"Suzuki V-storm, \n",
    "        Himalayan, Jawa\"\"\")"
   ]
  },
  {
   "cell_type": "code",
   "execution_count": 42,
   "id": "f85d6649-67e6-42b5-9103-e496c90c70b1",
   "metadata": {},
   "outputs": [
    {
     "name": "stdout",
     "output_type": "stream",
     "text": [
      "Vehicle is rented to: SHASHANK charges applied 500\n"
     ]
    }
   ],
   "source": [
    "customer = Vehicle_rental()\n",
    "customer.rent_vehicle(\"shashank\", 101, \"Yes\")"
   ]
  },
  {
   "cell_type": "code",
   "execution_count": 2,
   "id": "6a88dab8-a5f3-499b-82a5-6fc09db85efc",
   "metadata": {},
   "outputs": [],
   "source": [
    "#4\n",
    "class Books:\n",
    "    def add_books(self, name, name_book, ID):\n",
    "        print(f\"Boook{name_book} is added in the library\")\n",
    "    def borrow_books(self, name, name_book, ID):\n",
    "        print(f\"{name_book} is borrowed to {name.upper()} ID is {ID}\")\n",
    "    def returned(self, name, name_book, ID):\n",
    "        print(f\"Book{name_book} is retuned by {name} and {ID}\")"
   ]
  },
  {
   "cell_type": "code",
   "execution_count": 3,
   "id": "2b55c4bc-3812-47fb-99da-62ff72eaf7c8",
   "metadata": {},
   "outputs": [],
   "source": [
    "class Library(Books):\n",
    "    pass"
   ]
  },
  {
   "cell_type": "code",
   "execution_count": 5,
   "id": "14ff8ef0-ebec-4d6b-8b8c-8abdb186c7c2",
   "metadata": {},
   "outputs": [
    {
     "name": "stdout",
     "output_type": "stream",
     "text": [
      "Boooksherlock holmes is added in the library\n"
     ]
    }
   ],
   "source": [
    "shashank = Library()\n",
    "shashank.add_books(\"shashank\",\"sherlock holmes\",102)"
   ]
  },
  {
   "cell_type": "code",
   "execution_count": 10,
   "id": "53d3722c-b0c6-4a1a-9f96-06418daf450c",
   "metadata": {},
   "outputs": [],
   "source": [
    "#5\n",
    "class Product:\n",
    "    def add_product(self, name_product):\n",
    "        print(f\"{name_product} is added to inventory\")\n",
    "    def update_quantity(self, new_quantity):\n",
    "        quantity = quantity + new_quantity\n",
    "        print(f\"updated {quantity}\")\n",
    "    def available_products(self):\n",
    "        print(\"available products are : Rice, Pulses\")"
   ]
  },
  {
   "cell_type": "code",
   "execution_count": 12,
   "id": "409fcdd0-85f5-4327-a862-05547fba83fa",
   "metadata": {},
   "outputs": [],
   "source": [
    "class inventory(Product):\n",
    "    pass"
   ]
  },
  {
   "cell_type": "code",
   "execution_count": 13,
   "id": "1f5a40b5-7299-477e-b034-16bbe283f100",
   "metadata": {},
   "outputs": [
    {
     "name": "stdout",
     "output_type": "stream",
     "text": [
      "Rice is added to inventory\n"
     ]
    }
   ],
   "source": [
    "customer = inventory()\n",
    "customer.add_product(\"Rice\")"
   ]
  },
  {
   "cell_type": "code",
   "execution_count": 14,
   "id": "16b52d97-914c-4916-86fa-0408313b9fce",
   "metadata": {},
   "outputs": [],
   "source": [
    "#6\n",
    "class Shape:\n",
    "    def __init__(self, length, width, height):\n",
    "        self.length = length\n",
    "        self.width = width\n",
    "        self.height = height\n",
    "\n",
    "\n",
    "class Rectangle(Shape):\n",
    "    def calculate_area(self):\n",
    "        return self.length * self.width\n",
    "\n",
    "    def calculate_perimeter(self):\n",
    "        return 2 * (self.length + self.width)\n",
    "\n",
    "class Cube(Shape):\n",
    "    def calculate_area(self):\n",
    "        return 6 * (self.length ** 2)\n",
    "\n",
    "    def calculate_perimeter(self):\n",
    "        return 12 * self.length"
   ]
  },
  {
   "cell_type": "code",
   "execution_count": 17,
   "id": "57a74a46-b57b-49c9-8ed1-8a9c5300078b",
   "metadata": {},
   "outputs": [
    {
     "data": {
      "text/plain": [
       "144"
      ]
     },
     "execution_count": 17,
     "metadata": {},
     "output_type": "execute_result"
    }
   ],
   "source": [
    "shashank = Rectangle(12, 12, 12)\n",
    "shashank.calculate_area()\n",
    "\n",
    "Garima = Cube(12,12,12)\n",
    "Garima.calculate_perimeter()"
   ]
  },
  {
   "cell_type": "markdown",
   "id": "47d320df-1a1e-4d0b-90f7-72a33d6fdb80",
   "metadata": {},
   "source": [
    "#7 Student Management Create a class representing a student with attributes like student ID, name, and grades. \n",
    "    Implement methods to calculate the average grade and display student details."
   ]
  },
  {
   "cell_type": "code",
   "execution_count": 6,
   "id": "6b24d7ee-b8da-4225-92c8-526a40150004",
   "metadata": {},
   "outputs": [
    {
     "name": "stdout",
     "output_type": "stream",
     "text": [
      "Student ID: 137\n",
      "Name: Shashank\n",
      "Average Grade: 40.0\n"
     ]
    }
   ],
   "source": [
    "class Student:\n",
    "    def __init__(self, Student_ID, Name, Grades):\n",
    "        self.Student_ID = Student_ID\n",
    "        self.Name = Name\n",
    "        self.Grades = Grades\n",
    "\n",
    "    def average_grades(self):\n",
    "        total = sum(self.Grades)\n",
    "        average = total / len(self.Grades)\n",
    "        print(f\"Student ID: {self.Student_ID}\")\n",
    "        print(f\"Name: {self.Name}\")\n",
    "        print(f\"Average Grade: {average}\")\n",
    "\n",
    "student = Student(137, \"Shashank\", [30, 40, 50])\n",
    "student.average_grades()"
   ]
  },
  {
   "cell_type": "markdown",
   "id": "d98d21e0-a04b-4b2b-86a4-a32e7010871e",
   "metadata": {},
   "source": [
    "#8 Email Management Create a class representing an email with attributes like sender, recipient, and subject. Implement methods to send an email and display email details."
   ]
  },
  {
   "cell_type": "code",
   "execution_count": 8,
   "id": "ee0cb4cc-4bde-43ab-ad73-2d5eff25d763",
   "metadata": {},
   "outputs": [],
   "source": [
    "class email:\n",
    "    def __init__(self,  subject, sender, recipient):\n",
    "        self.subject = subject\n",
    "        self.sender = sender\n",
    "        self.recipient = recipient\n",
    "    def email_details(self):\n",
    "        print(f\"{self.subject}\")\n",
    "        print(f\"{self.sender}\")\n",
    "        print(f\"{self.recipient}\")"
   ]
  },
  {
   "cell_type": "code",
   "execution_count": 10,
   "id": "4e9a20ec-7bec-4992-9658-94c74332f102",
   "metadata": {},
   "outputs": [
    {
     "name": "stdout",
     "output_type": "stream",
     "text": [
      "leave to go delhi\n",
      "shashank.rawat2688@gmail.com\n",
      "manager\n"
     ]
    }
   ],
   "source": [
    "email_1 = email(\"leave to go delhi\", \"shashank.rawat2688@gmail.com\", \"manager\")\n",
    "email_1.email_details()"
   ]
  },
  {
   "cell_type": "markdown",
   "id": "2e2e2df7-edc2-45d8-8ba9-6885b3c0539f",
   "metadata": {},
   "source": [
    "Problem 9: Social Media Profile Create a class representing a social media profile with attributes like username and posts. Implement methods to add posts, display posts, and search for posts by keyword."
   ]
  },
  {
   "cell_type": "code",
   "execution_count": 11,
   "id": "363b926e-6f6f-47fa-aa62-2b881bd7e58f",
   "metadata": {},
   "outputs": [],
   "source": [
    "class social:\n",
    "    def __init__(self, username, post):\n",
    "        self.username = username \n",
    "        self.post = post \n",
    "    def post_add(self):\n",
    "        return \"post added successfully\"\n",
    "    def display_post(self):\n",
    "        return \"post from delhi\"\n",
    "    def search(self):\n",
    "        return \"search result\""
   ]
  },
  {
   "cell_type": "code",
   "execution_count": 13,
   "id": "78fc2181-6493-471f-8626-f6d47f298356",
   "metadata": {},
   "outputs": [
    {
     "data": {
      "text/plain": [
       "'post added successfully'"
      ]
     },
     "execution_count": 13,
     "metadata": {},
     "output_type": "execute_result"
    }
   ],
   "source": [
    "post1 = social(\"shashank04\",101)\n",
    "post1.post_add()"
   ]
  },
  {
   "cell_type": "markdown",
   "id": "6517c605-980a-4936-856b-533c46ec94b7",
   "metadata": {},
   "source": [
    "Problem 10: ToDo List Create a class representing a ToDo list with attributes like tasks and due dates. Implement methods to add tasks, mark tasks as completed, and display pending tasks"
   ]
  },
  {
   "cell_type": "code",
   "execution_count": 14,
   "id": "c3f720cb-a7be-4cb1-ae0c-7c8de2ee3b2f",
   "metadata": {},
   "outputs": [],
   "source": [
    "class ToDo:\n",
    "    def __init__(self, tasks, due_dates):\n",
    "        self.tasks = tasks\n",
    "        self.due_dates = due_dates \n",
    "    def add_tasks(self, tasks_todo):\n",
    "        return self.tasks.append(tasks_todo)\n",
    "    def completed(self, completed_tasks):\n",
    "        return self.tasks.append(completed_tasks)\n",
    "    def display_tasks(self):\n",
    "        print(self.tasks)"
   ]
  },
  {
   "cell_type": "code",
   "execution_count": 15,
   "id": "cc6a874b-5813-4b5c-adcd-4ccc2c9dbb99",
   "metadata": {},
   "outputs": [],
   "source": [
    "task1 = ToDo([],[])\n",
    "task1.add_tasks(\"football tournament\")"
   ]
  },
  {
   "cell_type": "code",
   "execution_count": null,
   "id": "c20301b6-0b72-4075-adb0-d3d11f3197db",
   "metadata": {},
   "outputs": [],
   "source": []
  }
 ],
 "metadata": {
  "kernelspec": {
   "display_name": "Python 3 (ipykernel)",
   "language": "python",
   "name": "python3"
  },
  "language_info": {
   "codemirror_mode": {
    "name": "ipython",
    "version": 3
   },
   "file_extension": ".py",
   "mimetype": "text/x-python",
   "name": "python",
   "nbconvert_exporter": "python",
   "pygments_lexer": "ipython3",
   "version": "3.10.8"
  }
 },
 "nbformat": 4,
 "nbformat_minor": 5
}
